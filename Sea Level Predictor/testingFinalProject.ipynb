{
 "cells": [
  {
   "cell_type": "code",
   "execution_count": 43,
   "id": "ef9d6134",
   "metadata": {},
   "outputs": [],
   "source": [
    "import pandas as pd\n",
    "import matplotlib.pyplot as plt\n",
    "from scipy.stats import linregress\n",
    "import numpy as np\n",
    "\n",
    "def draw_plot():\n",
    "    # Read data from file\n",
    "\n",
    "\n",
    "    # Create scatter plot\n",
    "\n",
    "\n",
    "    # Create first line of best fit\n",
    "\n",
    "\n",
    "    # Create second line of best fit\n",
    "\n",
    "\n",
    "    # Add labels and title\n",
    "\n",
    "    \n",
    "    # Save plot and return data for testing (DO NOT MODIFY)\n",
    "    plt.savefig('sea_level_plot.png')\n",
    "    return plt.gca()"
   ]
  },
  {
   "cell_type": "code",
   "execution_count": 2,
   "id": "3b262473",
   "metadata": {},
   "outputs": [],
   "source": [
    "df = pd.read_csv('epa-sea-level.csv')"
   ]
  },
  {
   "cell_type": "code",
   "execution_count": 6,
   "id": "f94dde88",
   "metadata": {},
   "outputs": [
    {
     "data": {
      "text/html": [
       "<div>\n",
       "<style scoped>\n",
       "    .dataframe tbody tr th:only-of-type {\n",
       "        vertical-align: middle;\n",
       "    }\n",
       "\n",
       "    .dataframe tbody tr th {\n",
       "        vertical-align: top;\n",
       "    }\n",
       "\n",
       "    .dataframe thead th {\n",
       "        text-align: right;\n",
       "    }\n",
       "</style>\n",
       "<table border=\"1\" class=\"dataframe\">\n",
       "  <thead>\n",
       "    <tr style=\"text-align: right;\">\n",
       "      <th></th>\n",
       "      <th>Year</th>\n",
       "      <th>CSIRO Adjusted Sea Level</th>\n",
       "      <th>Lower Error Bound</th>\n",
       "      <th>Upper Error Bound</th>\n",
       "      <th>NOAA Adjusted Sea Level</th>\n",
       "    </tr>\n",
       "  </thead>\n",
       "  <tbody>\n",
       "    <tr>\n",
       "      <th>0</th>\n",
       "      <td>1880</td>\n",
       "      <td>0.000000</td>\n",
       "      <td>-0.952756</td>\n",
       "      <td>0.952756</td>\n",
       "      <td>NaN</td>\n",
       "    </tr>\n",
       "    <tr>\n",
       "      <th>1</th>\n",
       "      <td>1881</td>\n",
       "      <td>0.220472</td>\n",
       "      <td>-0.732283</td>\n",
       "      <td>1.173228</td>\n",
       "      <td>NaN</td>\n",
       "    </tr>\n",
       "    <tr>\n",
       "      <th>2</th>\n",
       "      <td>1882</td>\n",
       "      <td>-0.440945</td>\n",
       "      <td>-1.346457</td>\n",
       "      <td>0.464567</td>\n",
       "      <td>NaN</td>\n",
       "    </tr>\n",
       "    <tr>\n",
       "      <th>3</th>\n",
       "      <td>1883</td>\n",
       "      <td>-0.232283</td>\n",
       "      <td>-1.129921</td>\n",
       "      <td>0.665354</td>\n",
       "      <td>NaN</td>\n",
       "    </tr>\n",
       "    <tr>\n",
       "      <th>4</th>\n",
       "      <td>1884</td>\n",
       "      <td>0.590551</td>\n",
       "      <td>-0.283465</td>\n",
       "      <td>1.464567</td>\n",
       "      <td>NaN</td>\n",
       "    </tr>\n",
       "    <tr>\n",
       "      <th>...</th>\n",
       "      <td>...</td>\n",
       "      <td>...</td>\n",
       "      <td>...</td>\n",
       "      <td>...</td>\n",
       "      <td>...</td>\n",
       "    </tr>\n",
       "    <tr>\n",
       "      <th>129</th>\n",
       "      <td>2009</td>\n",
       "      <td>8.586614</td>\n",
       "      <td>8.311024</td>\n",
       "      <td>8.862205</td>\n",
       "      <td>8.046354</td>\n",
       "    </tr>\n",
       "    <tr>\n",
       "      <th>130</th>\n",
       "      <td>2010</td>\n",
       "      <td>8.901575</td>\n",
       "      <td>8.618110</td>\n",
       "      <td>9.185039</td>\n",
       "      <td>8.122973</td>\n",
       "    </tr>\n",
       "    <tr>\n",
       "      <th>131</th>\n",
       "      <td>2011</td>\n",
       "      <td>8.964567</td>\n",
       "      <td>8.661417</td>\n",
       "      <td>9.267717</td>\n",
       "      <td>8.053065</td>\n",
       "    </tr>\n",
       "    <tr>\n",
       "      <th>132</th>\n",
       "      <td>2012</td>\n",
       "      <td>9.326772</td>\n",
       "      <td>8.992126</td>\n",
       "      <td>9.661417</td>\n",
       "      <td>8.457058</td>\n",
       "    </tr>\n",
       "    <tr>\n",
       "      <th>133</th>\n",
       "      <td>2013</td>\n",
       "      <td>8.980315</td>\n",
       "      <td>8.622047</td>\n",
       "      <td>9.338583</td>\n",
       "      <td>8.546648</td>\n",
       "    </tr>\n",
       "  </tbody>\n",
       "</table>\n",
       "<p>134 rows × 5 columns</p>\n",
       "</div>"
      ],
      "text/plain": [
       "     Year  CSIRO Adjusted Sea Level  Lower Error Bound  Upper Error Bound  \\\n",
       "0    1880                  0.000000          -0.952756           0.952756   \n",
       "1    1881                  0.220472          -0.732283           1.173228   \n",
       "2    1882                 -0.440945          -1.346457           0.464567   \n",
       "3    1883                 -0.232283          -1.129921           0.665354   \n",
       "4    1884                  0.590551          -0.283465           1.464567   \n",
       "..    ...                       ...                ...                ...   \n",
       "129  2009                  8.586614           8.311024           8.862205   \n",
       "130  2010                  8.901575           8.618110           9.185039   \n",
       "131  2011                  8.964567           8.661417           9.267717   \n",
       "132  2012                  9.326772           8.992126           9.661417   \n",
       "133  2013                  8.980315           8.622047           9.338583   \n",
       "\n",
       "     NOAA Adjusted Sea Level  \n",
       "0                        NaN  \n",
       "1                        NaN  \n",
       "2                        NaN  \n",
       "3                        NaN  \n",
       "4                        NaN  \n",
       "..                       ...  \n",
       "129                 8.046354  \n",
       "130                 8.122973  \n",
       "131                 8.053065  \n",
       "132                 8.457058  \n",
       "133                 8.546648  \n",
       "\n",
       "[134 rows x 5 columns]"
      ]
     },
     "execution_count": 6,
     "metadata": {},
     "output_type": "execute_result"
    }
   ],
   "source": [
    "df"
   ]
  },
  {
   "cell_type": "code",
   "execution_count": 70,
   "id": "00262b38",
   "metadata": {},
   "outputs": [
    {
     "name": "stderr",
     "output_type": "stream",
     "text": [
      "C:\\Users\\james\\AppData\\Local\\Temp\\ipykernel_16744\\2745782507.py:7: FutureWarning: The series.append method is deprecated and will be removed from pandas in a future version. Use pandas.concat instead.\n",
      "  plt.plot(df['Year'].append(extYr[\"Year\"]), fit.intercept + fit.slope*df['Year'].append(extYr[\"Year\"]))\n",
      "C:\\Users\\james\\AppData\\Local\\Temp\\ipykernel_16744\\2745782507.py:11: FutureWarning: The series.append method is deprecated and will be removed from pandas in a future version. Use pandas.concat instead.\n",
      "  plt.plot(newDf['Year'].append(extYr[\"Year\"]), fit2.intercept + fit2.slope*newDf['Year'].append(extYr[\"Year\"]))\n",
      "C:\\Users\\james\\AppData\\Local\\Temp\\ipykernel_16744\\2745782507.py:11: FutureWarning: The series.append method is deprecated and will be removed from pandas in a future version. Use pandas.concat instead.\n",
      "  plt.plot(newDf['Year'].append(extYr[\"Year\"]), fit2.intercept + fit2.slope*newDf['Year'].append(extYr[\"Year\"]))\n"
     ]
    },
    {
     "data": {
      "text/plain": [
       "[<matplotlib.lines.Line2D at 0x205a1b7cbe0>]"
      ]
     },
     "execution_count": 70,
     "metadata": {},
     "output_type": "execute_result"
    },
    {
     "data": {
      "image/png": "[encoded data removed]",
      "text/plain": [
       "<Figure size 1152x432 with 1 Axes>"
      ]
     },
     "metadata": {
      "needs_background": "light"
     },
     "output_type": "display_data"
    }
   ],
   "source": [
    "fig = plt.subplots(figsize=(16, 6))\n",
    "plt.scatter(df['Year'], df['CSIRO Adjusted Sea Level'])\n",
    "plt.xlabel(\"Year\")\n",
    "plt.ylabel(\"CSIRO Adjusted Sea Level\")\n",
    "fit = linregress(df['Year'], df['CSIRO Adjusted Sea Level'])\n",
    "extYr = pd.DataFrame({\"Year\" : np.arange(2014,2051)})\n",
    "plt.plot(df['Year'].append(extYr[\"Year\"]), fit.intercept + fit.slope*df['Year'].append(extYr[\"Year\"]))\n",
    "\n",
    "newDf = df.loc[df[\"Year\"] >= 2000]\n",
    "fit2 = linregress(newDf['Year'], newDf['CSIRO Adjusted Sea Level'])\n",
    "plt.plot(newDf['Year'].append(extYr[\"Year\"]), fit2.intercept + fit2.slope*newDf['Year'].append(extYr[\"Year\"]))"
   ]
  },
  {
   "cell_type": "code",
   "execution_count": 69,
   "id": "cfa0fe32",
   "metadata": {},
   "outputs": [
    {
     "data": {
      "text/plain": [
       "LinregressResult(slope=0.0630445840121348, intercept=-119.06594196773978, rvalue=0.984757131182585, pvalue=3.7886969791131554e-102, stderr=0.000969211871328715, intercept_stderr=1.8869433812425225)"
      ]
     },
     "execution_count": 69,
     "metadata": {},
     "output_type": "execute_result"
    },
    {
     "data": {
      "image/png": "[encoded data removed]",
      "text/plain": [
       "<Figure size 432x288 with 1 Axes>"
      ]
     },
     "metadata": {
      "needs_background": "light"
     },
     "output_type": "display_data"
    }
   ],
   "source": [
    "fit = linregress(df['Year'], df['CSIRO Adjusted Sea Level'])\n",
    "plt.plot(df['Year'], fit.intercept + fit.slope*df['Year'], 'r', label='fitted line')\n",
    "fit"
   ]
  },
  {
   "cell_type": "code",
   "execution_count": 52,
   "id": "1efcb578",
   "metadata": {},
   "outputs": [
    {
     "name": "stderr",
     "output_type": "stream",
     "text": [
      "C:\\Users\\james\\AppData\\Local\\Temp\\ipykernel_16744\\3170659512.py:2: FutureWarning: The series.append method is deprecated and will be removed from pandas in a future version. Use pandas.concat instead.\n",
      "  df['Year'].append(extYr[\"Year\"])\n"
     ]
    },
    {
     "data": {
      "text/plain": [
       "0     1880\n",
       "1     1881\n",
       "2     1882\n",
       "3     1883\n",
       "4     1884\n",
       "      ... \n",
       "32    2046\n",
       "33    2047\n",
       "34    2048\n",
       "35    2049\n",
       "36    2050\n",
       "Name: Year, Length: 171, dtype: int64"
      ]
     },
     "execution_count": 52,
     "metadata": {},
     "output_type": "execute_result"
    }
   ],
   "source": [
    "extYr = pd.DataFrame({\"Year\" : np.arange(2014,2051)})\n",
    "df['Year'].append(extYr[\"Year\"])"
   ]
  },
  {
   "cell_type": "code",
   "execution_count": 64,
   "id": "0a5fe926",
   "metadata": {},
   "outputs": [
    {
     "data": {
      "text/plain": [
       "<matplotlib.collections.PathCollection at 0x205a10fdc10>"
      ]
     },
     "execution_count": 64,
     "metadata": {},
     "output_type": "execute_result"
    },
    {
     "data": {
      "image/png": "[encoded data removed]",
      "text/plain": [
       "<Figure size 432x288 with 1 Axes>"
      ]
     },
     "metadata": {
      "needs_background": "light"
     },
     "output_type": "display_data"
    }
   ],
   "source": []
  },
  {
   "cell_type": "code",
   "execution_count": null,
   "id": "4c66a98f",
   "metadata": {},
   "outputs": [],
   "source": []
  }
 ],
 "metadata": {
  "kernelspec": {
   "display_name": "Python 3 (ipykernel)",
   "language": "python",
   "name": "python3"
  },
  "language_info": {
   "codemirror_mode": {
    "name": "ipython",
    "version": 3
   },
   "file_extension": ".py",
   "mimetype": "text/x-python",
   "name": "python",
   "nbconvert_exporter": "python",
   "pygments_lexer": "ipython3",
   "version": "3.9.12"
  }
 },
 "nbformat": 4,
 "nbformat_minor": 5
}
